{
 "cells": [
  {
   "cell_type": "code",
   "execution_count": 1,
   "metadata": {},
   "outputs": [],
   "source": [
    "l = [3, -5, 6, 8, 10] # [0]~[4]"
   ]
  },
  {
   "cell_type": "code",
   "execution_count": 2,
   "metadata": {},
   "outputs": [
    {
     "data": {
      "text/plain": [
       "[-5, 6]"
      ]
     },
     "execution_count": 2,
     "metadata": {},
     "output_type": "execute_result"
    }
   ],
   "source": [
    "l[1:3] # l[m:n]: 取出第m項~第n-1項元素"
   ]
  },
  {
   "cell_type": "code",
   "execution_count": 3,
   "metadata": {},
   "outputs": [
    {
     "data": {
      "text/plain": [
       "[6, 8, 10]"
      ]
     },
     "execution_count": 3,
     "metadata": {},
     "output_type": "execute_result"
    }
   ],
   "source": [
    "l[2:] # l[m:]: 取出第m項~最後一項元素"
   ]
  },
  {
   "cell_type": "code",
   "execution_count": 4,
   "metadata": {
    "scrolled": true
   },
   "outputs": [
    {
     "data": {
      "text/plain": [
       "[3, -5, 6]"
      ]
     },
     "execution_count": 4,
     "metadata": {},
     "output_type": "execute_result"
    }
   ],
   "source": [
    "l[:3] # l[:n]: 取出第一項~第n-1項元素"
   ]
  },
  {
   "cell_type": "code",
   "execution_count": 8,
   "metadata": {},
   "outputs": [
    {
     "data": {
      "text/plain": [
       "10"
      ]
     },
     "execution_count": 8,
     "metadata": {},
     "output_type": "execute_result"
    }
   ],
   "source": [
    "l[-1]"
   ]
  },
  {
   "cell_type": "code",
   "execution_count": 5,
   "metadata": {},
   "outputs": [
    {
     "data": {
      "text/plain": [
       "[-5, 6, 8]"
      ]
     },
     "execution_count": 5,
     "metadata": {},
     "output_type": "execute_result"
    }
   ],
   "source": [
    "l[1:-1]"
   ]
  },
  {
   "cell_type": "code",
   "execution_count": 10,
   "metadata": {},
   "outputs": [
    {
     "data": {
      "text/plain": [
       "6"
      ]
     },
     "execution_count": 10,
     "metadata": {},
     "output_type": "execute_result"
    }
   ],
   "source": [
    "l[-3]"
   ]
  },
  {
   "cell_type": "code",
   "execution_count": 6,
   "metadata": {},
   "outputs": [
    {
     "data": {
      "text/plain": [
       "[6, 8, 10]"
      ]
     },
     "execution_count": 6,
     "metadata": {},
     "output_type": "execute_result"
    }
   ],
   "source": [
    "l[-3:]"
   ]
  },
  {
   "cell_type": "code",
   "execution_count": 7,
   "metadata": {},
   "outputs": [
    {
     "data": {
      "text/plain": [
       "[3, -5, 6, 8, 10]"
      ]
     },
     "execution_count": 7,
     "metadata": {},
     "output_type": "execute_result"
    }
   ],
   "source": [
    "l[:] # all"
   ]
  },
  {
   "cell_type": "markdown",
   "metadata": {},
   "source": [
    "# String (含中文)"
   ]
  },
  {
   "cell_type": "code",
   "execution_count": 11,
   "metadata": {},
   "outputs": [],
   "source": [
    "l = 'hello'"
   ]
  },
  {
   "cell_type": "code",
   "execution_count": 12,
   "metadata": {},
   "outputs": [
    {
     "data": {
      "text/plain": [
       "'ell'"
      ]
     },
     "execution_count": 12,
     "metadata": {},
     "output_type": "execute_result"
    }
   ],
   "source": [
    "l[1:4]"
   ]
  },
  {
   "cell_type": "code",
   "execution_count": 13,
   "metadata": {},
   "outputs": [],
   "source": [
    "l = \"一二三四五六七八九十\""
   ]
  },
  {
   "cell_type": "code",
   "execution_count": 14,
   "metadata": {},
   "outputs": [
    {
     "data": {
      "text/plain": [
       "'六'"
      ]
     },
     "execution_count": 14,
     "metadata": {},
     "output_type": "execute_result"
    }
   ],
   "source": [
    "l[5]"
   ]
  },
  {
   "cell_type": "code",
   "execution_count": 15,
   "metadata": {},
   "outputs": [
    {
     "data": {
      "text/plain": [
       "'四五六七'"
      ]
     },
     "execution_count": 15,
     "metadata": {},
     "output_type": "execute_result"
    }
   ],
   "source": [
    "l[3:7]"
   ]
  },
  {
   "cell_type": "markdown",
   "metadata": {},
   "source": [
    "# List 生成"
   ]
  },
  {
   "cell_type": "code",
   "execution_count": null,
   "metadata": {},
   "outputs": [],
   "source": [
    "ex = [] # by 宣告"
   ]
  },
  {
   "cell_type": "code",
   "execution_count": 16,
   "metadata": {},
   "outputs": [
    {
     "data": {
      "text/plain": [
       "['Y', 'e', 's', ',', ' ', 'I', ' ', 'd', 'o', '!']"
      ]
     },
     "execution_count": 16,
     "metadata": {},
     "output_type": "execute_result"
    }
   ],
   "source": [
    "list(\"Yes, I do!\")"
   ]
  },
  {
   "cell_type": "markdown",
   "metadata": {},
   "source": [
    "# for 迴圈"
   ]
  },
  {
   "cell_type": "markdown",
   "metadata": {},
   "source": [
    "for i in L(a string list):\n",
    "這裡的i表示L中的各項"
   ]
  },
  {
   "cell_type": "code",
   "execution_count": 39,
   "metadata": {},
   "outputs": [
    {
     "name": "stdout",
     "output_type": "stream",
     "text": [
      "                  三\n",
      "                角形\n",
      "              那只是\n",
      "            三邊三角\n",
      "          但邊邊相關\n",
      "        角角相互呼應\n",
      "      充滿朝氣和活力\n",
      "    富於積極性發展性\n",
      "  具有彈韌性變化無窮\n",
      "角邊角邊角邊循環不息\n",
      "  你看色散七彩的稜鏡\n",
      "    你看埃及的金字塔\n",
      "      數學美學的精華\n",
      "        哲學的完美像\n",
      "          宇宙精神的\n",
      "            神聖象徵\n",
      "              哦你的\n",
      "                三角\n",
      "                  形\n"
     ]
    }
   ],
   "source": [
    "L = [\"                  三\", \"                角形\", \"              那只是\", \"            三邊三角\", \"          但邊邊相關\",\n",
    "     \"        角角相互呼應\", \"      充滿朝氣和活力\", \"    富於積極性發展性\", \"  具有彈韌性變化無窮\", \"角邊角邊角邊循環不息\",\n",
    "     \"  你看色散七彩的稜鏡\", \"    你看埃及的金字塔\", \"      數學美學的精華\", \"        哲學的完美像\", \"          宇宙精神的\",\n",
    "     \"            神聖象徵\", \"              哦你的\", \"                三角\", \"                  形\"] # 詹冰 〈三角形〉\n",
    "for i in L:\n",
    "    print(i)"
   ]
  },
  {
   "cell_type": "code",
   "execution_count": 40,
   "metadata": {
    "scrolled": true
   },
   "outputs": [
    {
     "name": "stdout",
     "output_type": "stream",
     "text": [
      "                  三                  三\n",
      "                角形                角形\n",
      "              那只是              那只是\n",
      "            三邊三角            三邊三角\n",
      "          但邊邊相關          但邊邊相關\n",
      "        角角相互呼應        角角相互呼應\n",
      "      充滿朝氣和活力      充滿朝氣和活力\n",
      "    富於積極性發展性    富於積極性發展性\n",
      "  具有彈韌性變化無窮  具有彈韌性變化無窮\n",
      "角邊角邊角邊循環不息角邊角邊角邊循環不息\n",
      "  你看色散七彩的稜鏡  你看色散七彩的稜鏡\n",
      "    你看埃及的金字塔    你看埃及的金字塔\n",
      "      數學美學的精華      數學美學的精華\n",
      "        哲學的完美像        哲學的完美像\n",
      "          宇宙精神的          宇宙精神的\n",
      "            神聖象徵            神聖象徵\n",
      "              哦你的              哦你的\n",
      "                三角                三角\n",
      "                  形                  形\n"
     ]
    }
   ],
   "source": [
    "for i in L:\n",
    "    print(i*2)"
   ]
  },
  {
   "cell_type": "code",
   "execution_count": 41,
   "metadata": {
    "scrolled": true
   },
   "outputs": [
    {
     "name": "stdout",
     "output_type": "stream",
     "text": [
      "                  三                  三                  三                  三                  三                  三\n",
      "                角形                角形                角形                角形                角形                角形\n",
      "              那只是              那只是              那只是              那只是              那只是              那只是\n",
      "            三邊三角            三邊三角            三邊三角            三邊三角            三邊三角            三邊三角\n",
      "          但邊邊相關          但邊邊相關          但邊邊相關          但邊邊相關          但邊邊相關          但邊邊相關\n",
      "        角角相互呼應        角角相互呼應        角角相互呼應        角角相互呼應        角角相互呼應        角角相互呼應\n",
      "      充滿朝氣和活力      充滿朝氣和活力      充滿朝氣和活力      充滿朝氣和活力      充滿朝氣和活力      充滿朝氣和活力\n",
      "    富於積極性發展性    富於積極性發展性    富於積極性發展性    富於積極性發展性    富於積極性發展性    富於積極性發展性\n",
      "  具有彈韌性變化無窮  具有彈韌性變化無窮  具有彈韌性變化無窮  具有彈韌性變化無窮  具有彈韌性變化無窮  具有彈韌性變化無窮\n",
      "角邊角邊角邊循環不息角邊角邊角邊循環不息角邊角邊角邊循環不息角邊角邊角邊循環不息角邊角邊角邊循環不息角邊角邊角邊循環不息\n",
      "  你看色散七彩的稜鏡  你看色散七彩的稜鏡  你看色散七彩的稜鏡  你看色散七彩的稜鏡  你看色散七彩的稜鏡  你看色散七彩的稜鏡\n",
      "    你看埃及的金字塔    你看埃及的金字塔    你看埃及的金字塔    你看埃及的金字塔    你看埃及的金字塔    你看埃及的金字塔\n",
      "      數學美學的精華      數學美學的精華      數學美學的精華      數學美學的精華      數學美學的精華      數學美學的精華\n",
      "        哲學的完美像        哲學的完美像        哲學的完美像        哲學的完美像        哲學的完美像        哲學的完美像\n",
      "          宇宙精神的          宇宙精神的          宇宙精神的          宇宙精神的          宇宙精神的          宇宙精神的\n",
      "            神聖象徵            神聖象徵            神聖象徵            神聖象徵            神聖象徵            神聖象徵\n",
      "              哦你的              哦你的              哦你的              哦你的              哦你的              哦你的\n",
      "                三角                三角                三角                三角                三角                三角\n",
      "                  形                  形                  形                  形                  形                  形\n"
     ]
    }
   ],
   "source": [
    "for i in L:\n",
    "    print(i*6)"
   ]
  },
  {
   "cell_type": "code",
   "execution_count": 54,
   "metadata": {},
   "outputs": [
    {
     "name": "stdout",
     "output_type": "stream",
     "text": [
      "                  三————————————————————————————————————————————————————————————————————————————————————————————————————————————\n",
      "                角形————————————————————————————————————————————————————————————————————————————————————————————————————————————\n",
      "              那只是————————————————————————————————————————————————————————————————————————————————————————————————————————————\n",
      "            三邊三角————————————————————————————————————————————————————————————————————————————————————————————————————————————\n",
      "          但邊邊相關————————————————————————————————————————————————————————————————————————————————————————————————————————————\n",
      "        角角相互呼應————————————————————————————————————————————————————————————————————————————————————————————————————————————\n",
      "      充滿朝氣和活力————————————————————————————————————————————————————————————————————————————————————————————————————————————\n",
      "    富於積極性發展性————————————————————————————————————————————————————————————————————————————————————————————————————————————\n",
      "  具有彈韌性變化無窮————————————————————————————————————————————————————————————————————————————————————————————————————————————\n",
      "角邊角邊角邊循環不息————————————————————————————————————————————————————————————————————————————————————————————————————————————\n",
      "  你看色散七彩的稜鏡————————————————————————————————————————————————————————————————————————————————————————————————————————————\n",
      "    你看埃及的金字塔————————————————————————————————————————————————————————————————————————————————————————————————————————————\n",
      "      數學美學的精華————————————————————————————————————————————————————————————————————————————————————————————————————————————\n",
      "        哲學的完美像————————————————————————————————————————————————————————————————————————————————————————————————————————————\n",
      "          宇宙精神的————————————————————————————————————————————————————————————————————————————————————————————————————————————\n",
      "            神聖象徵————————————————————————————————————————————————————————————————————————————————————————————————————————————\n",
      "              哦你的————————————————————————————————————————————————————————————————————————————————————————————————————————————\n",
      "                三角————————————————————————————————————————————————————————————————————————————————————————————————————————————\n",
      "                  形————————————————————————————————————————————————————————————————————————————————————————————————————————————\n"
     ]
    }
   ],
   "source": [
    "for i in L:\n",
    "    print(i, end = \"————————————————————————————————————————————————————————————————————————————————————————————————————————————\\n\")"
   ]
  },
  {
   "cell_type": "markdown",
   "metadata": {},
   "source": [
    "# List → Array"
   ]
  },
  {
   "cell_type": "code",
   "execution_count": 60,
   "metadata": {},
   "outputs": [
    {
     "data": {
      "text/plain": [
       "array(['                  三', '                角形', '              那只是',\n",
       "       '            三邊三角', '          但邊邊相關', '        角角相互呼應',\n",
       "       '      充滿朝氣和活力', '    富於積極性發展性', '  具有彈韌性變化無窮', '角邊角邊角邊循環不息',\n",
       "       '  你看色散七彩的稜鏡', '    你看埃及的金字塔', '      數學美學的精華', '        哲學的完美像',\n",
       "       '          宇宙精神的', '            神聖象徵', '              哦你的',\n",
       "       '                三角', '                  形'], dtype='<U19')"
      ]
     },
     "execution_count": 60,
     "metadata": {},
     "output_type": "execute_result"
    }
   ],
   "source": [
    "import numpy as np\n",
    "L = np.array(L)\n",
    "L"
   ]
  },
  {
   "cell_type": "code",
   "execution_count": 61,
   "metadata": {},
   "outputs": [
    {
     "name": "stdout",
     "output_type": "stream",
     "text": [
      "                  三\n",
      "                角形\n",
      "              那只是\n",
      "            三邊三角\n",
      "          但邊邊相關\n",
      "        角角相互呼應\n",
      "      充滿朝氣和活力\n",
      "    富於積極性發展性\n",
      "  具有彈韌性變化無窮\n",
      "角邊角邊角邊循環不息\n",
      "  你看色散七彩的稜鏡\n",
      "    你看埃及的金字塔\n",
      "      數學美學的精華\n",
      "        哲學的完美像\n",
      "          宇宙精神的\n",
      "            神聖象徵\n",
      "              哦你的\n",
      "                三角\n",
      "                  形\n"
     ]
    }
   ],
   "source": [
    "for i in L:\n",
    "    print(i)"
   ]
  },
  {
   "cell_type": "code",
   "execution_count": 4,
   "metadata": {},
   "outputs": [
    {
     "data": {
      "text/plain": [
       "[2, 3, 5, 7, 11]"
      ]
     },
     "execution_count": 4,
     "metadata": {},
     "output_type": "execute_result"
    }
   ],
   "source": [
    "l = [2, 3, 5, 7]\n",
    "l.append(11)\n",
    "l\n",
    "\n"
   ]
  },
  {
   "cell_type": "markdown",
   "metadata": {},
   "source": [
    "## List不拘形式"
   ]
  },
  {
   "cell_type": "code",
   "execution_count": 5,
   "metadata": {},
   "outputs": [
    {
     "data": {
      "text/plain": [
       "[2, 3, 5, 7, 11, '十三']"
      ]
     },
     "execution_count": 5,
     "metadata": {},
     "output_type": "execute_result"
    }
   ],
   "source": [
    "l.append('十三')\n",
    "l"
   ]
  }
 ],
 "metadata": {
  "kernelspec": {
   "display_name": "Python (tensorflowenv)",
   "language": "python",
   "name": "python3"
  },
  "language_info": {
   "codemirror_mode": {
    "name": "ipython",
    "version": 3
   },
   "file_extension": ".py",
   "mimetype": "text/x-python",
   "name": "python",
   "nbconvert_exporter": "python",
   "pygments_lexer": "ipython3",
   "version": "3.7.3"
  }
 },
 "nbformat": 4,
 "nbformat_minor": 4
}
