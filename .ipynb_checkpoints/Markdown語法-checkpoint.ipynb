{
 "cells": [
  {
   "cell_type": "markdown",
   "metadata": {},
   "source": [
    "### (Ctrl+m) + m: 由Code切換成Markdown"
   ]
  },
  {
   "cell_type": "markdown",
   "metadata": {},
   "source": [
    "### 分項說明\n",
    "* ' * '列點"
   ]
  },
  {
   "cell_type": "markdown",
   "metadata": {},
   "source": [
    "### 連結\n",
    "[政大校網](https://www.nccu.edu.tw/app/home.php)"
   ]
  },
  {
   "cell_type": "markdown",
   "metadata": {},
   "source": [
    "## LateX\n",
    "### 隨文\n",
    "\n",
    "前後各加一個錢字號$ \n",
    "\n",
    "$f(x)=x^{2+a} + \\dfrac{x}{2} + log(n) + \\sqrt{2\\cdot x} + x \\times (x+1) + \\sin x$\n",
    "\n",
    "[其他LaTeX語法](http://www.malinc.se/math/latex/basiccodeen.php)"
   ]
  }
 ],
 "metadata": {
  "kernelspec": {
   "display_name": "Python (tensorflowenv)",
   "language": "python",
   "name": "python3"
  },
  "language_info": {
   "codemirror_mode": {
    "name": "ipython",
    "version": 3
   },
   "file_extension": ".py",
   "mimetype": "text/x-python",
   "name": "python",
   "nbconvert_exporter": "python",
   "pygments_lexer": "ipython3",
   "version": "3.7.3"
  }
 },
 "nbformat": 4,
 "nbformat_minor": 4
}
