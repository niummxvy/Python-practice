{
 "cells": [
  {
   "cell_type": "markdown",
   "metadata": {},
   "source": [
    "### (Ctrl+m) + m: 由Code切換成Markdown"
   ]
  },
  {
   "cell_type": "markdown",
   "metadata": {},
   "source": [
    "### 分項說明\n",
    "* ' * '列點"
   ]
  },
  {
   "cell_type": "markdown",
   "metadata": {},
   "source": [
    "### 連結\n",
    "[政大校網](https://www.nccu.edu.tw/app/home.php)"
   ]
  },
  {
   "cell_type": "markdown",
   "metadata": {},
   "source": [
    "## LateX\n",
    "### 隨文\n",
    "\n",
    "前後各加一個錢字號$ \n",
    "\n",
    "$f(x)=x^{2+a} + \\dfrac{x}{2} + log(n) + \\sqrt{2\\cdot x} + x \\times (x+1) + \\sin x$\n",
    "\n",
    "[其他LaTeX語法](http://www.malinc.se/math/latex/basiccodeen.php)"
   ]
  },
  {
   "cell_type": "markdown",
   "metadata": {},
   "source": [
    "- 子彈條列\n",
    "    - 第二層\n",
    "        - 第三層\n",
    "            - 第四層\n",
    "                - 第五層\n",
    "                    - 第六層"
   ]
  },
  {
   "cell_type": "markdown",
   "metadata": {},
   "source": [
    "1. 數字條列\n",
    "2. 一之二\n",
    "    1. 第二層\n",
    "    2. 二之二\n",
    "        1. 第三層\n",
    "        2. 三之二\n",
    "            1. 第四層\n",
    "            2. 四之二\n",
    "                1. 第五層\n",
    "                2. 五之二"
   ]
  },
  {
   "cell_type": "markdown",
   "metadata": {},
   "source": [
    "***\n",
    "// 分隔線"
   ]
  },
  {
   "cell_type": "markdown",
   "metadata": {},
   "source": [
    "> 第一層引用\n",
    "    >>第二層引用\n",
    "        >>>第三層引用\n",
    "            >>>>第四層引用\n",
    "                >>>>>第五層引用\n",
    "                    >>>>>>第六層引用\n",
    "                        >>>>>>>第七層引用"
   ]
  },
  {
   "cell_type": "markdown",
   "metadata": {},
   "source": [
    "```\n",
    " #include <stdio.h>\n",
    " int main(void)\n",
    " { \n",
    "  printf(\"Hello World\\n\");\n",
    "  return 0;\n",
    " }\n",
    " ```\n",
    " // 在markdown中打code"
   ]
  },
  {
   "cell_type": "code",
   "execution_count": null,
   "metadata": {},
   "outputs": [],
   "source": []
  }
 ],
 "metadata": {
  "kernelspec": {
   "display_name": "Python (tensorflowenv)",
   "language": "python",
   "name": "python3"
  },
  "language_info": {
   "codemirror_mode": {
    "name": "ipython",
    "version": 3
   },
   "file_extension": ".py",
   "mimetype": "text/x-python",
   "name": "python",
   "nbconvert_exporter": "python",
   "pygments_lexer": "ipython3",
   "version": "3.7.3"
  }
 },
 "nbformat": 4,
 "nbformat_minor": 4
}
